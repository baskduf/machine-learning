{
 "cells": [
  {
   "cell_type": "markdown",
   "id": "b5c82789-3670-4738-8a2d-d3e26e0492fe",
   "metadata": {},
   "source": [
    "# **IRIS 붓꽃 분류: Using SVM**"
   ]
  },
  {
   "cell_type": "markdown",
   "id": "d955943d-358e-41a0-9ab8-6bc9c25b5e4c",
   "metadata": {},
   "source": [
    "## **1. 패키지 Import**"
   ]
  },
  {
   "cell_type": "code",
   "execution_count": 352,
   "id": "8578fa55-e9ca-4955-a885-3f07b9d2d585",
   "metadata": {},
   "outputs": [],
   "source": [
    "import pandas as pd\n",
    "import numpy as np\n",
    "import matplotlib.pyplot as plt"
   ]
  },
  {
   "cell_type": "markdown",
   "id": "58b3698f-5e7e-4aea-923d-f98077e3c70c",
   "metadata": {},
   "source": [
    "## **2. 데이터 불러오기**"
   ]
  },
  {
   "cell_type": "code",
   "execution_count": 353,
   "id": "8eaf29ea-0b86-4e8e-9fbf-e31a03c03b0d",
   "metadata": {},
   "outputs": [],
   "source": [
    "from sklearn import datasets"
   ]
  },
  {
   "cell_type": "code",
   "execution_count": 354,
   "id": "a6df7beb-7a7b-4e6e-90d5-aeb17ad5c5e2",
   "metadata": {},
   "outputs": [
    {
     "data": {
      "text/html": [
       "<div>\n",
       "<style scoped>\n",
       "    .dataframe tbody tr th:only-of-type {\n",
       "        vertical-align: middle;\n",
       "    }\n",
       "\n",
       "    .dataframe tbody tr th {\n",
       "        vertical-align: top;\n",
       "    }\n",
       "\n",
       "    .dataframe thead th {\n",
       "        text-align: right;\n",
       "    }\n",
       "</style>\n",
       "<table border=\"1\" class=\"dataframe\">\n",
       "  <thead>\n",
       "    <tr style=\"text-align: right;\">\n",
       "      <th></th>\n",
       "      <th>sepal length (cm)</th>\n",
       "      <th>sepal width (cm)</th>\n",
       "      <th>petal length (cm)</th>\n",
       "      <th>petal width (cm)</th>\n",
       "    </tr>\n",
       "  </thead>\n",
       "  <tbody>\n",
       "    <tr>\n",
       "      <th>0</th>\n",
       "      <td>5.1</td>\n",
       "      <td>3.5</td>\n",
       "      <td>1.4</td>\n",
       "      <td>0.2</td>\n",
       "    </tr>\n",
       "    <tr>\n",
       "      <th>1</th>\n",
       "      <td>4.9</td>\n",
       "      <td>3.0</td>\n",
       "      <td>1.4</td>\n",
       "      <td>0.2</td>\n",
       "    </tr>\n",
       "    <tr>\n",
       "      <th>2</th>\n",
       "      <td>4.7</td>\n",
       "      <td>3.2</td>\n",
       "      <td>1.3</td>\n",
       "      <td>0.2</td>\n",
       "    </tr>\n",
       "    <tr>\n",
       "      <th>3</th>\n",
       "      <td>4.6</td>\n",
       "      <td>3.1</td>\n",
       "      <td>1.5</td>\n",
       "      <td>0.2</td>\n",
       "    </tr>\n",
       "    <tr>\n",
       "      <th>4</th>\n",
       "      <td>5.0</td>\n",
       "      <td>3.6</td>\n",
       "      <td>1.4</td>\n",
       "      <td>0.2</td>\n",
       "    </tr>\n",
       "    <tr>\n",
       "      <th>...</th>\n",
       "      <td>...</td>\n",
       "      <td>...</td>\n",
       "      <td>...</td>\n",
       "      <td>...</td>\n",
       "    </tr>\n",
       "    <tr>\n",
       "      <th>145</th>\n",
       "      <td>6.7</td>\n",
       "      <td>3.0</td>\n",
       "      <td>5.2</td>\n",
       "      <td>2.3</td>\n",
       "    </tr>\n",
       "    <tr>\n",
       "      <th>146</th>\n",
       "      <td>6.3</td>\n",
       "      <td>2.5</td>\n",
       "      <td>5.0</td>\n",
       "      <td>1.9</td>\n",
       "    </tr>\n",
       "    <tr>\n",
       "      <th>147</th>\n",
       "      <td>6.5</td>\n",
       "      <td>3.0</td>\n",
       "      <td>5.2</td>\n",
       "      <td>2.0</td>\n",
       "    </tr>\n",
       "    <tr>\n",
       "      <th>148</th>\n",
       "      <td>6.2</td>\n",
       "      <td>3.4</td>\n",
       "      <td>5.4</td>\n",
       "      <td>2.3</td>\n",
       "    </tr>\n",
       "    <tr>\n",
       "      <th>149</th>\n",
       "      <td>5.9</td>\n",
       "      <td>3.0</td>\n",
       "      <td>5.1</td>\n",
       "      <td>1.8</td>\n",
       "    </tr>\n",
       "  </tbody>\n",
       "</table>\n",
       "<p>150 rows × 4 columns</p>\n",
       "</div>"
      ],
      "text/plain": [
       "     sepal length (cm)  sepal width (cm)  petal length (cm)  petal width (cm)\n",
       "0                  5.1               3.5                1.4               0.2\n",
       "1                  4.9               3.0                1.4               0.2\n",
       "2                  4.7               3.2                1.3               0.2\n",
       "3                  4.6               3.1                1.5               0.2\n",
       "4                  5.0               3.6                1.4               0.2\n",
       "..                 ...               ...                ...               ...\n",
       "145                6.7               3.0                5.2               2.3\n",
       "146                6.3               2.5                5.0               1.9\n",
       "147                6.5               3.0                5.2               2.0\n",
       "148                6.2               3.4                5.4               2.3\n",
       "149                5.9               3.0                5.1               1.8\n",
       "\n",
       "[150 rows x 4 columns]"
      ]
     },
     "execution_count": 354,
     "metadata": {},
     "output_type": "execute_result"
    }
   ],
   "source": [
    "iris = datasets.load_iris()\n",
    "iris_df = pd.DataFrame(data = iris.data, columns = iris.feature_names)\n",
    "iris_df"
   ]
  },
  {
   "cell_type": "markdown",
   "id": "58f063a7-e017-4430-87e0-fe0042c2a3da",
   "metadata": {
    "tags": []
   },
   "source": [
    "## **3. 학습/검증 데이터 분리 및 특징 선택**"
   ]
  },
  {
   "cell_type": "code",
   "execution_count": 355,
   "id": "1a50389c-f8b8-46c5-bd1a-58f30ff7c08c",
   "metadata": {},
   "outputs": [],
   "source": [
    "from sklearn.model_selection._split import train_test_split"
   ]
  },
  {
   "cell_type": "code",
   "execution_count": 356,
   "id": "3d8073de-5541-4ae2-a82f-2de58e636bae",
   "metadata": {},
   "outputs": [],
   "source": [
    "use_columns = iris_df.columns[[0,3]]"
   ]
  },
  {
   "cell_type": "code",
   "execution_count": 357,
   "id": "c7ffe340-fa23-4d9b-a332-5ee54f47f850",
   "metadata": {},
   "outputs": [
    {
     "name": "stdout",
     "output_type": "stream",
     "text": [
      "(105, 2) (45, 2) (105,) (45,)\n"
     ]
    }
   ],
   "source": [
    "X_train, X_test, y_train, y_test = train_test_split(\n",
    "    iris_df[use_columns], # 학습에 사용할 원하는 특징 선택\n",
    "    iris.target,\n",
    "    test_size = 0.3,\n",
    "    random_state = 0,\n",
    "    stratify = iris.target # 분류 할 클래스의 비율 조정\n",
    ")\n",
    "print(X_train.shape, X_test.shape, y_train.shape, y_test.shape)"
   ]
  },
  {
   "cell_type": "markdown",
   "id": "78ebdc97-f4ff-43cb-8494-f03dbd96b9d9",
   "metadata": {
    "tags": []
   },
   "source": [
    "## **4. 스케일링**"
   ]
  },
  {
   "cell_type": "markdown",
   "id": "02eddd40-0040-48dd-a269-92a35565189c",
   "metadata": {},
   "source": [
    "> **스케일링을 하는 이유?**   \n",
    "> * 특징 마다 단위가 상이함.   \n",
    "> * 스케일링은 각 특징의 단위를 ```표준화``` 또는 ```정규화``` 함."
   ]
  },
  {
   "cell_type": "markdown",
   "id": "08d2f465-d80e-4571-ae41-3fb53f0c9d2e",
   "metadata": {},
   "source": [
    "### **표준화: StandardScaler**"
   ]
  },
  {
   "cell_type": "markdown",
   "id": "3497b6b2-e880-4248-8851-5ebf5e155d9f",
   "metadata": {},
   "source": [
    "* 데이터의 특징을 각각 ```평균이 0```이고, ```분산이 1```인 ```가우시안 정규 분포```를 가진 값으로 변환"
   ]
  },
  {
   "cell_type": "code",
   "execution_count": 358,
   "id": "7634a50e-b78d-4851-8dac-b14acb5573bd",
   "metadata": {},
   "outputs": [],
   "source": [
    "from sklearn.preprocessing import StandardScaler"
   ]
  },
  {
   "cell_type": "code",
   "execution_count": 359,
   "id": "894d2dba-5547-485e-867f-d375a8b9fabb",
   "metadata": {},
   "outputs": [],
   "source": [
    "ss_scaler = StandardScaler()\n",
    "X_train_ss = ss_scaler.fit_transform(X_train)\n",
    "X_test_ss = ss_scaler.fit_transform(X_test)"
   ]
  },
  {
   "cell_type": "markdown",
   "id": "ff92bfa7-3cbb-4509-aaff-44309c154aea",
   "metadata": {},
   "source": [
    "### **정규화: MinMaxScaler**"
   ]
  },
  {
   "cell_type": "markdown",
   "id": "1f974ffe-b8e6-4bfd-8046-cf8e544b6f95",
   "metadata": {},
   "source": [
    "* 각 특징을 크기를 ```0~1``` 또는 ```-1 ~ 1```의 크기로 변환해줌.\n",
    "* (```-1 ~ 1```은 값에 음수가 존재할 경우)"
   ]
  },
  {
   "cell_type": "code",
   "execution_count": 360,
   "id": "5c6d5aae-ff80-4efc-a5d3-12260889b7ce",
   "metadata": {},
   "outputs": [],
   "source": [
    "from sklearn.preprocessing import MinMaxScaler"
   ]
  },
  {
   "cell_type": "code",
   "execution_count": 361,
   "id": "662f66cc-9cc6-4765-87f7-faf5994e284b",
   "metadata": {},
   "outputs": [],
   "source": [
    "mms_scaler = MinMaxScaler()\n",
    "X_train_mms = mms_scaler.fit_transform(X_train)\n",
    "X_test_mms = mms_scaler.fit_transform(X_test)"
   ]
  },
  {
   "cell_type": "markdown",
   "id": "b09ae299-fd1d-498d-9fe2-73856ec2aaae",
   "metadata": {},
   "source": [
    "## **5. SVM 모델 객체 생성**"
   ]
  },
  {
   "cell_type": "markdown",
   "id": "a1f05e23-afc3-4d4e-ab79-b4fbd41c6ebe",
   "metadata": {},
   "source": [
    "* 데이터 선택: X_train/X_test, X_train_ss/X_test_ss"
   ]
  },
  {
   "cell_type": "code",
   "execution_count": 362,
   "id": "0aa85ae0-e58c-4c6b-a578-df63eb883131",
   "metadata": {},
   "outputs": [],
   "source": [
    "# X_train = X_train\n",
    "# X_test = X_test\n",
    "\n",
    "X_train = X_train_ss\n",
    "X_test = X_test_ss\n",
    "\n",
    "# X_train = X_train_mms\n",
    "# X_test = X_test_mms"
   ]
  },
  {
   "cell_type": "code",
   "execution_count": 363,
   "id": "e44b53a5-10a1-4b9f-8ba1-99417833db67",
   "metadata": {},
   "outputs": [],
   "source": [
    "from sklearn.svm import SVC"
   ]
  },
  {
   "cell_type": "code",
   "execution_count": 364,
   "id": "99195644-7a7d-455c-bd86-2ca543fc4816",
   "metadata": {},
   "outputs": [
    {
     "data": {
      "text/plain": [
       "SVC()"
      ]
     },
     "execution_count": 364,
     "metadata": {},
     "output_type": "execute_result"
    }
   ],
   "source": [
    "model = SVC()\n",
    "model.fit(X_train, y_train)"
   ]
  },
  {
   "cell_type": "markdown",
   "id": "fe1f65f0-a03b-4b4a-8870-1160b54e1194",
   "metadata": {},
   "source": [
    "* **모델의 하이퍼 파라미터 불러오기**"
   ]
  },
  {
   "cell_type": "code",
   "execution_count": 365,
   "id": "87c91709-af2d-4622-932b-3a21bd1dba1d",
   "metadata": {},
   "outputs": [
    {
     "data": {
      "text/plain": [
       "{'C': 1.0,\n",
       " 'break_ties': False,\n",
       " 'cache_size': 200,\n",
       " 'class_weight': None,\n",
       " 'coef0': 0.0,\n",
       " 'decision_function_shape': 'ovr',\n",
       " 'degree': 3,\n",
       " 'gamma': 'scale',\n",
       " 'kernel': 'rbf',\n",
       " 'max_iter': -1,\n",
       " 'probability': False,\n",
       " 'random_state': None,\n",
       " 'shrinking': True,\n",
       " 'tol': 0.001,\n",
       " 'verbose': False}"
      ]
     },
     "execution_count": 365,
     "metadata": {},
     "output_type": "execute_result"
    }
   ],
   "source": [
    "model.get_params()"
   ]
  },
  {
   "cell_type": "markdown",
   "id": "d7b78d85-d791-4ec1-88ec-caa121d28e09",
   "metadata": {},
   "source": [
    "* **하이퍼 파라미터 튜닝**"
   ]
  },
  {
   "cell_type": "code",
   "execution_count": 366,
   "id": "49e44a40-a849-4aad-a9c3-72a35eaa4f93",
   "metadata": {},
   "outputs": [],
   "source": [
    "model = SVC(\n",
    "    C = 1,          # 0.1, 1, 10, 100 등\n",
    "    gamma = 10,      # 0.1, 1, 10, 100 등\n",
    "    kernel = 'rbf',   # 'linear', 'poly', 'rbf' 등\n",
    "    # degree = 3,       # 2 ~ 5 등\n",
    ")"
   ]
  },
  {
   "cell_type": "code",
   "execution_count": 367,
   "id": "e3e7d349-3743-4db8-89d8-7a12a1cb4833",
   "metadata": {},
   "outputs": [
    {
     "data": {
      "text/plain": [
       "SVC(C=1, gamma=10)"
      ]
     },
     "execution_count": 367,
     "metadata": {},
     "output_type": "execute_result"
    }
   ],
   "source": [
    "model.fit(X_train, y_train)"
   ]
  },
  {
   "cell_type": "markdown",
   "id": "c59d73f6-2c73-4fd5-9e8b-ad346a69457b",
   "metadata": {},
   "source": [
    "* **GridSearch를 통한 하이퍼파라미터 튜닝**"
   ]
  },
  {
   "cell_type": "code",
   "execution_count": 368,
   "id": "9ef509e6-1d1a-4787-b957-d086c36f4430",
   "metadata": {},
   "outputs": [],
   "source": [
    "from sklearn.model_selection import GridSearchCV"
   ]
  },
  {
   "cell_type": "code",
   "execution_count": 369,
   "id": "f4c1c1a6-bfe4-4eed-893f-bdc810fedaba",
   "metadata": {},
   "outputs": [],
   "source": [
    "param_grid = {\n",
    "    \"C\"      : [0.1, 1],\n",
    "    \"gamma\"  : [0.1, 1, 10],\n",
    "    \"kernel\" : ['linear','poly','rbf'],\n",
    "    \"degree\" : [2,3]\n",
    "}\n",
    "\n",
    "grid_model = GridSearchCV(\n",
    "    model, \n",
    "    param_grid=param_grid, \n",
    "    cv=2,   # K-fold\n",
    "    refit=True)"
   ]
  },
  {
   "cell_type": "code",
   "execution_count": 370,
   "id": "f7d4659d-1324-4df5-a98d-2a084ccc1b6e",
   "metadata": {},
   "outputs": [
    {
     "data": {
      "text/plain": [
       "GridSearchCV(cv=2, estimator=SVC(C=1, gamma=10),\n",
       "             param_grid={'C': [0.1, 1, 10], 'degree': [2, 3, 4, 5],\n",
       "                         'gamma': [0.1, 1, 10],\n",
       "                         'kernel': ['linear', 'poly', 'rbf']})"
      ]
     },
     "execution_count": 370,
     "metadata": {},
     "output_type": "execute_result"
    }
   ],
   "source": [
    "grid_model.fit(X_train, y_train)"
   ]
  },
  {
   "cell_type": "code",
   "execution_count": 371,
   "id": "e210d8ae-49ab-4133-86c4-265ecbb49fda",
   "metadata": {},
   "outputs": [
    {
     "name": "stdout",
     "output_type": "stream",
     "text": [
      "{'C': 0.1, 'degree': 5, 'gamma': 10, 'kernel': 'poly'}\n"
     ]
    }
   ],
   "source": [
    "# GridSearch 결과 중, 최적 하이퍼파라미터 학습 모델 객체 반환\n",
    "print(grid_model.best_params_)\n",
    "best_model = grid_model.best_estimator_ "
   ]
  },
  {
   "cell_type": "markdown",
   "id": "b4adac53-3023-4de0-8cd8-0b6da58f3cbb",
   "metadata": {},
   "source": [
    "## **6. 모델 평가하기**"
   ]
  },
  {
   "cell_type": "markdown",
   "id": "00c49001-79b3-40a4-9e01-00227d7a9ccc",
   "metadata": {},
   "source": [
    "* 모델 선택: model, best_model"
   ]
  },
  {
   "cell_type": "code",
   "execution_count": 372,
   "id": "2add3753-c974-4523-bd88-e52957589fc9",
   "metadata": {},
   "outputs": [],
   "source": [
    "model = model\n",
    "# model = best_model"
   ]
  },
  {
   "cell_type": "code",
   "execution_count": 373,
   "id": "25ff381f-7040-4785-8fb3-e434ee01b687",
   "metadata": {},
   "outputs": [],
   "source": [
    "from sklearn.metrics import accuracy_score"
   ]
  },
  {
   "cell_type": "code",
   "execution_count": 374,
   "id": "2598e6fa-66ea-4391-9c74-ca2ed98c795d",
   "metadata": {},
   "outputs": [
    {
     "name": "stdout",
     "output_type": "stream",
     "text": [
      "분류 정확도: 0.9555555555555556\n"
     ]
    }
   ],
   "source": [
    "y_pred = model.predict(X_test)\n",
    "print(f'분류 정확도: {accuracy_score(y_test, y_pred)}')"
   ]
  },
  {
   "cell_type": "code",
   "execution_count": 375,
   "id": "a510a807-ca86-4f84-84c7-b7739c8df390",
   "metadata": {},
   "outputs": [],
   "source": [
    "from sklearn.metrics import classification_report"
   ]
  },
  {
   "cell_type": "code",
   "execution_count": 376,
   "id": "93142e85-bae4-462d-bce1-1e2912028648",
   "metadata": {},
   "outputs": [
    {
     "name": "stdout",
     "output_type": "stream",
     "text": [
      "              precision    recall  f1-score   support\n",
      "\n",
      "      setosa       1.00      1.00      1.00        15\n",
      "  versicolor       0.93      0.93      0.93        15\n",
      "   virginica       0.93      0.93      0.93        15\n",
      "\n",
      "    accuracy                           0.96        45\n",
      "   macro avg       0.96      0.96      0.96        45\n",
      "weighted avg       0.96      0.96      0.96        45\n",
      "\n"
     ]
    }
   ],
   "source": [
    "print(classification_report(y_pred, y_test, target_names=['setosa','versicolor','virginica']))"
   ]
  },
  {
   "cell_type": "markdown",
   "id": "e09869d4-86c0-42c9-b0cb-9f87ef34350e",
   "metadata": {},
   "source": [
    "## **7. 시각화**"
   ]
  },
  {
   "cell_type": "markdown",
   "id": "347ce64e-4533-4108-afd9-15112a66c95b",
   "metadata": {},
   "source": [
    "> **주의**\n",
    "> * 2차원으로 시각화 하기 때문에 특징을 2개를 사용하여 학습한 모델만 사용할 것"
   ]
  },
  {
   "cell_type": "code",
   "execution_count": 377,
   "id": "f3f09e79-1052-479a-8f63-98d6535b3aca",
   "metadata": {},
   "outputs": [],
   "source": [
    "from matplotlib.colors import ListedColormap"
   ]
  },
  {
   "cell_type": "code",
   "execution_count": 380,
   "id": "509cc49c-6581-4785-97b9-073a63055765",
   "metadata": {},
   "outputs": [
    {
     "data": {
      "image/png": "[encoded data removed]",
      "text/plain": [
       "<Figure size 720x720 with 1 Axes>"
      ]
     },
     "metadata": {
      "needs_background": "light"
     },
     "output_type": "display_data"
    }
   ],
   "source": [
    "import numpy as np\n",
    "\n",
    "plt.rcParams['figure.figsize'] = (10, 10)\n",
    "\n",
    "def visualize_boundary(model, X, y, title, xlabel, ylabel):\n",
    "    ax = plt.gca()\n",
    "    ax.scatter(X[:, 0], X[:, 1], c=y, s=25, cmap='rainbow', edgecolor='k', zorder=3)\n",
    "    ax.axis('tight')\n",
    "    xlim_start , xlim_end = ax.get_xlim()\n",
    "    ylim_start , ylim_end = ax.get_ylim()\n",
    "    xx, yy = np.meshgrid(np.linspace(xlim_start,xlim_end, num=200),np.linspace(ylim_start,ylim_end, num=200))\n",
    "    Z = model.predict(np.c_[xx.ravel(), yy.ravel()]).reshape(xx.shape)\n",
    "    n_classes = len(np.unique(y))\n",
    "    contours = ax.contourf(xx, yy, Z, alpha=0.3,levels=np.arange(n_classes + 1) - 0.5,cmap='rainbow',zorder=1)\n",
    "    plt.title(title)\n",
    "    plt.xlabel(xlabel)\n",
    "    plt.ylabel(ylabel)\n",
    "    \n",
    "visualize_boundary(model, np.vstack([X_train, X_test]), np.hstack([y_train, y_test]), 'a', 'a','a') "
   ]
  },
  {
   "cell_type": "code",
   "execution_count": null,
   "id": "d1303b4d-6108-445b-83cd-e2107b040ed9",
   "metadata": {},
   "outputs": [],
   "source": []
  },
  {
   "cell_type": "code",
   "execution_count": null,
   "id": "8dd35dab-3534-4cc9-b5c7-8355448f4b81",
   "metadata": {},
   "outputs": [],
   "source": []
  },
  {
   "cell_type": "code",
   "execution_count": null,
   "id": "a00e14e9-1b85-4056-a2c6-83fba08a4877",
   "metadata": {},
   "outputs": [],
   "source": []
  },
  {
   "cell_type": "code",
   "execution_count": null,
   "id": "0ca40b72-e897-44c3-b169-bb46c4985394",
   "metadata": {},
   "outputs": [],
   "source": []
  },
  {
   "cell_type": "code",
   "execution_count": null,
   "id": "3fb28e1a-bb44-4838-a034-ed6c67bcd9f9",
   "metadata": {},
   "outputs": [],
   "source": []
  },
  {
   "cell_type": "code",
   "execution_count": null,
   "id": "ca1721dd-e88a-40c5-adbe-01d37f7cb054",
   "metadata": {},
   "outputs": [],
   "source": []
  },
  {
   "cell_type": "code",
   "execution_count": null,
   "id": "999d12c8-dabd-4b50-9119-eef8508590de",
   "metadata": {},
   "outputs": [],
   "source": []
  },
  {
   "cell_type": "code",
   "execution_count": null,
   "id": "337aba3f-8fe2-4bb3-a414-0ab0caf50c3d",
   "metadata": {},
   "outputs": [],
   "source": []
  },
  {
   "cell_type": "code",
   "execution_count": null,
   "id": "6819f55b-b7ec-4b13-9d33-de228f0a80ba",
   "metadata": {},
   "outputs": [],
   "source": []
  },
  {
   "cell_type": "code",
   "execution_count": null,
   "id": "4ac123b8-935c-4a36-93ce-6e9f9db9054a",
   "metadata": {},
   "outputs": [],
   "source": []
  }
 ],
 "metadata": {
  "kernelspec": {
   "display_name": "Python 3 (ipykernel)",
   "language": "python",
   "name": "python3"
  },
  "language_info": {
   "codemirror_mode": {
    "name": "ipython",
    "version": 3
   },
   "file_extension": ".py",
   "mimetype": "text/x-python",
   "name": "python",
   "nbconvert_exporter": "python",
   "pygments_lexer": "ipython3",
   "version": "3.7.11"
  }
 },
 "nbformat": 4,
 "nbformat_minor": 5
}
