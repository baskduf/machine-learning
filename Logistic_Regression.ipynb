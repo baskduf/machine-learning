{
  "cells": [
    {
      "cell_type": "markdown",
      "metadata": {
        "id": "ffY45VE2QjEG"
      },
      "source": [
        "# Logistic Regression : Single-variable"
      ]
    },
    {
      "cell_type": "code",
      "execution_count": null,
      "metadata": {
        "id": "5rjy6J5eMIoF"
      },
      "outputs": [],
      "source": [
        "import numpy as np"
      ]
    },
    {
      "cell_type": "code",
      "execution_count": null,
      "metadata": {
        "colab": {
          "base_uri": "https://localhost:8080/"
        },
        "id": "PGxlqYXlQmZa",
        "outputId": "1684fa1d-19c4-4806-d6d0-e52ce182139b"
      },
      "outputs": [
        {
          "name": "stdout",
          "output_type": "stream",
          "text": [
            "X_data =  (10, 1) , t_data.shape =  (10, 1)\n"
          ]
        }
      ],
      "source": [
        "loaded_data = np.loadtxt('data-02_1var.csv', delimiter=',', dtype=np.float32)\n",
        "x_data = loaded_data[:, 0:-1]\n",
        "t_data = loaded_data[:, [-1]]\n",
        "\n",
        "print(\"X_data = \", x_data.shape, \", t_data.shape = \", t_data.shape)"
      ]
    },
    {
      "cell_type": "code",
      "execution_count": null,
      "metadata": {
        "colab": {
          "base_uri": "https://localhost:8080/"
        },
        "id": "zSlIuRZ5QyDM",
        "outputId": "997a740c-5ffe-44f0-c36b-4f6fd78f8c03"
      },
      "outputs": [
        {
          "name": "stdout",
          "output_type": "stream",
          "text": [
            "W =  [[0.66730098]] , W.shape =  (1, 1) , b =  [0.70010467] , b.shape =  (1,)\n"
          ]
        }
      ],
      "source": [
        "W = np.random.rand(1, 1)\n",
        "b = np.random.rand(1)\n",
        "\n",
        "print('W = ', W, \", W.shape = \", W.shape, \", b = \", b, \", b.shape = \", b.shape)"
      ]
    },
    {
      "cell_type": "markdown",
      "metadata": {
        "id": "jBaGw3G_lRfr"
      },
      "source": [
        "![image.png](attachment:52babfbb-d8e4-44ee-a029-b53741994693.png)"
      ]
    },
    {
      "cell_type": "code",
      "execution_count": null,
      "metadata": {
        "id": "q4BHT0_iQzxz"
      },
      "outputs": [],
      "source": [
        "def sigmoid(x):\n",
        "    return 1 / (1+np.exp(-x))"
      ]
    },
    {
      "cell_type": "code",
      "execution_count": null,
      "metadata": {
        "id": "FCoajgMVlRfs"
      },
      "outputs": [],
      "source": [
        "def cross_entropy(t, y):    # 크로스 엔트로피 함수\n",
        "    delta = 1e-7        # log함수의 -무한대 발산 방지\n",
        "    return -np.sum(t*np.log(y + delta) + (1-t)*np.log((1 - y)+delta))"
      ]
    },
    {
      "cell_type": "code",
      "execution_count": null,
      "metadata": {
        "id": "Tc7BRXhAQ4hv"
      },
      "outputs": [],
      "source": [
        "def errFunc(x, t):\n",
        "    z = np.dot(x,W) + b     # 선형회귀\n",
        "    y = sigmoid(z)\n",
        "    return cross_entropy(t, y)"
      ]
    },
    {
      "cell_type": "code",
      "execution_count": null,
      "metadata": {
        "id": "xBunX4cnlRfs"
      },
      "outputs": [],
      "source": [
        "def errValue(x, t):\n",
        "    return  errFunc(x, t)"
      ]
    },
    {
      "cell_type": "code",
      "execution_count": null,
      "metadata": {
        "id": "uZlz0HlvQ8AE"
      },
      "outputs": [],
      "source": [
        "def numerical_derivative(f, x):\n",
        "    delta_x = 1e-4 # 0.0001\n",
        "    grad = np.zeros_like(x)\n",
        "\n",
        "    it = np.nditer(x, flags=['multi_index'], op_flags=['readwrite'])\n",
        "    while not it.finished:\n",
        "        idx = it.multi_index\n",
        "        temp = x[idx]\n",
        "        x[idx] = temp + delta_x\n",
        "        fx1 = f(x)  # f(x+delta_x)\n",
        "\n",
        "        x[idx] = temp - delta_x\n",
        "        fx2 = f(x)  # f(x-delta_x)\n",
        "        grad[idx] = (fx1 - fx2) / (2*delta_x)\n",
        "\n",
        "        x[idx] = temp\n",
        "        it.iternext()\n",
        "    return grad"
      ]
    },
    {
      "cell_type": "code",
      "execution_count": null,
      "metadata": {
        "id": "046xTA7kRJQ8"
      },
      "outputs": [],
      "source": [
        "def predict(x):\n",
        "    z = np.dot(x,W) + b\n",
        "    y = sigmoid(z)\n",
        "    if y > 0.5:\n",
        "        result = 1  # True\n",
        "    else:\n",
        "        result = 0  # False\n",
        "    return y, result"
      ]
    },
    {
      "cell_type": "code",
      "execution_count": null,
      "metadata": {
        "colab": {
          "base_uri": "https://localhost:8080/"
        },
        "id": "3hLf9NUHRbsh",
        "outputId": "ce0caccc-7b0a-43e7-a6b7-253dda11a995"
      },
      "outputs": [
        {
          "name": "stdout",
          "output_type": "stream",
          "text": [
            "Initial error value = 32.395\n",
            "Initial W =  [[0.667]]\n",
            "Initial b =  [0.7]\n",
            "Step = 0     Error Value = 15.1840 W = [[0.252]]  b =  [0.646]\n",
            "Step = 1000  Error Value = 1.6301 W = [[0.495]]  b =  [-6.201]\n",
            "Step = 2000  Error Value = 1.2350 W = [[0.644]]  b =  [-8.173]\n",
            "Step = 3000  Error Value = 1.0471 W = [[0.747]]  b =  [-9.54]\n",
            "Step = 4000  Error Value = 0.9295 W = [[0.83]]  b =  [-10.623]\n",
            "Step = 5000  Error Value = 0.8460 W = [[0.899]]  b =  [-11.536]\n",
            "Step = 6000  Error Value = 0.7821 W = [[0.96]]  b =  [-12.335]\n",
            "Step = 7000  Error Value = 0.7309 W = [[1.014]]  b =  [-13.05]\n",
            "Step = 8000  Error Value = 0.6885 W = [[1.064]]  b =  [-13.7]\n",
            "Step = 9000  Error Value = 0.6525 W = [[1.11]]  b =  [-14.3]\n",
            "Step = 10000 Error Value = 0.6213 W = [[1.153]]  b =  [-14.858]\n"
          ]
        }
      ],
      "source": [
        "learning_rate = 1e-2\n",
        "f = lambda x : errFunc(x_data,t_data)   # errFunc()함수를 다른 함수의 인자로 넘기기 위해\n",
        "\n",
        "print(\"Initial error value = {:.3f}\".format(errValue(x_data, t_data)))\n",
        "print(\"Initial W = \", W.reshape(1,-1).round(3))\n",
        "print(\"Initial b = \", b.round(3))\n",
        "for step in range(10001):        # 적당한 횟수만큼 경사하강 반복\n",
        "    W -= learning_rate * numerical_derivative(f, W)\n",
        "    b -= learning_rate * numerical_derivative(f, b)\n",
        "\n",
        "    if (step % 1000 == 0):       # 경사하강 반복 중간마다 손실값 출력\n",
        "        print(\"Step = {:<5d}\".format(step), \"Error Value = {:.4f}\".format(errValue(x_data, t_data)),\n",
        "              \"W =\", W.reshape(1,-1).round(3), \" b = \", b.round(3))"
      ]
    },
    {
      "cell_type": "code",
      "execution_count": null,
      "metadata": {
        "colab": {
          "base_uri": "https://localhost:8080/"
        },
        "id": "vPoNUpDgVUvT",
        "outputId": "736bbd5c-3aeb-4166-b7ff-d704f02233e8"
      },
      "outputs": [
        {
          "name": "stdout",
          "output_type": "stream",
          "text": [
            "[[0.00354734]] 0\n"
          ]
        }
      ],
      "source": [
        "(real_val, logical_val) = predict(8)\n",
        "print(real_val, logical_val)"
      ]
    },
    {
      "cell_type": "markdown",
      "metadata": {
        "id": "jn7om1J3WGUl"
      },
      "source": [
        "# Logistic Regression : Multi-variable"
      ]
    },
    {
      "cell_type": "markdown",
      "metadata": {
        "id": "pSoh74EilRfu"
      },
      "source": [
        "![image.png](attachment:139ebb21-9d41-437b-a6a7-2cced4217365.png)"
      ]
    },
    {
      "cell_type": "code",
      "execution_count": null,
      "metadata": {
        "colab": {
          "base_uri": "https://localhost:8080/"
        },
        "id": "dabaN4EVVZtS",
        "outputId": "1d8151e4-4a1a-4bf8-dd68-95432348aba8"
      },
      "outputs": [
        {
          "name": "stdout",
          "output_type": "stream",
          "text": [
            "X_data =  (9, 2) , t_data.shape =  (9, 1)\n"
          ]
        }
      ],
      "source": [
        "loaded_data = np.loadtxt('data-02_2var.csv', delimiter=',', dtype=np.float32)\n",
        "x_data = loaded_data[:, 0:-1]\n",
        "t_data = loaded_data[:, [-1]]\n",
        "\n",
        "print(\"X_data = \", x_data.shape, \", t_data.shape = \", t_data.shape)"
      ]
    },
    {
      "cell_type": "code",
      "execution_count": null,
      "metadata": {
        "colab": {
          "base_uri": "https://localhost:8080/"
        },
        "id": "Xrxj8LG9Wa46",
        "outputId": "d480a1b0-84a1-4232-e65d-9571dbc51b44"
      },
      "outputs": [
        {
          "name": "stdout",
          "output_type": "stream",
          "text": [
            "W =  [[0.44452595]\n",
            " [0.71283793]] , W.shape =  (2, 1) , b =  [0.08291966] , b.shape =  (1,)\n"
          ]
        }
      ],
      "source": [
        "W = np.random.rand(2, 1)\n",
        "b = np.random.rand(1)\n",
        "\n",
        "print('W = ', W, \", W.shape = \", W.shape, \", b = \", b, \", b.shape = \", b.shape)"
      ]
    },
    {
      "cell_type": "code",
      "execution_count": null,
      "metadata": {
        "id": "KMzotL3YlRfu",
        "outputId": "b1c9668b-f65c-4224-fafd-1c58ba07b692"
      },
      "outputs": [
        {
          "name": "stdout",
          "output_type": "stream",
          "text": [
            "Initial error value = 27.778\n",
            "Initial W =  [[0.445 0.713]]\n",
            "Initial b =  [0.083]\n",
            "Step = 0     Error Value = 17.0150 W = [[0.245 0.454]]  b =  [0.044]\n",
            "Step = 1000  Error Value = 1.3789 W = [[ 0.592 -0.003]]  b =  [-4.982]\n",
            "Step = 2000  Error Value = 0.9655 W = [[0.759 0.056]]  b =  [-6.991]\n",
            "Step = 3000  Error Value = 0.7853 W = [[0.875 0.096]]  b =  [-8.326]\n",
            "Step = 4000  Error Value = 0.6774 W = [[0.965 0.13 ]]  b =  [-9.361]\n",
            "Step = 5000  Error Value = 0.6024 W = [[1.038 0.162]]  b =  [-10.224]\n",
            "Step = 6000  Error Value = 0.5456 W = [[1.1   0.193]]  b =  [-10.976]\n",
            "Step = 7000  Error Value = 0.5002 W = [[1.153 0.224]]  b =  [-11.647]\n",
            "Step = 8000  Error Value = 0.4627 W = [[1.201 0.255]]  b =  [-12.258]\n",
            "Step = 9000  Error Value = 0.4309 W = [[1.243 0.285]]  b =  [-12.821]\n",
            "Step = 10000 Error Value = 0.4034 W = [[1.282 0.314]]  b =  [-13.343]\n"
          ]
        }
      ],
      "source": [
        "learning_rate = 1e-2\n",
        "f = lambda x : errFunc(x_data,t_data)   # errFunc()함수를 다른 함수의 인자로 넘기기 위해\n",
        "\n",
        "print(\"Initial error value = {:.3f}\".format(errValue(x_data, t_data)))\n",
        "print(\"Initial W = \", W.reshape(1,-1).round(3))\n",
        "print(\"Initial b = \", b.round(3))\n",
        "for step in range(10001):        # 적당한 횟수만큼 경사하강 반복\n",
        "    W -= learning_rate * numerical_derivative(f, W)\n",
        "    b -= learning_rate * numerical_derivative(f, b)\n",
        "\n",
        "    if (step % 1000 == 0):       # 경사하강 반복 중간마다 손실값 출력\n",
        "        print(\"Step = {:<5d}\".format(step), \"Error Value = {:.4f}\".format(errValue(x_data, t_data)),\n",
        "              \"W =\", W.reshape(1,-1).round(3), \" b = \", b.round(3))"
      ]
    },
    {
      "cell_type": "code",
      "execution_count": null,
      "metadata": {
        "colab": {
          "base_uri": "https://localhost:8080/"
        },
        "id": "hdsDfOTLWfPP",
        "outputId": "7c80e6d8-8eda-4977-ea22-065578204af7"
      },
      "outputs": [
        {
          "data": {
            "text/plain": [
              "(array([0.99999339]), 1)"
            ]
          },
          "execution_count": 15,
          "metadata": {},
          "output_type": "execute_result"
        }
      ],
      "source": [
        "test_data = np.array([18, 7]) # (예습, 복습) = (3, 17) => Fail (0)\n",
        "predict(test_data)"
      ]
    },
    {
      "cell_type": "code",
      "execution_count": null,
      "metadata": {
        "id": "5zvxTg7XdBSc"
      },
      "outputs": [],
      "source": []
    }
  ],
  "metadata": {
    "colab": {
      "name": "Logistic_Regression_실습모드.ipynb",
      "provenance": []
    },
    "kernelspec": {
      "display_name": "ailab",
      "language": "python",
      "name": "python3"
    },
    "language_info": {
      "codemirror_mode": {
        "name": "ipython",
        "version": 3
      },
      "file_extension": ".py",
      "mimetype": "text/x-python",
      "name": "python",
      "nbconvert_exporter": "python",
      "pygments_lexer": "ipython3",
      "version": "3.10.0"
    }
  },
  "nbformat": 4,
  "nbformat_minor": 0
}